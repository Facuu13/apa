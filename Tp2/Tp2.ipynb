{
 "cells": [
  {
   "cell_type": "markdown",
   "metadata": {},
   "source": [
    "# Trabajo Práctico 2: Predicción de tormenta en base de Datos Meteorológicos "
   ]
  },
  {
   "cell_type": "markdown",
   "metadata": {},
   "source": [
    "### Integrantes\n",
    "\n",
    "- Andrioli, Facundo\n",
    "- Pérez, José"
   ]
  },
  {
   "cell_type": "markdown",
   "metadata": {},
   "source": [
    "### Preparación de Datos: "
   ]
  },
  {
   "cell_type": "markdown",
   "metadata": {},
   "source": [
    "1. Lea el dataset limpio que se guardó en el TP1 (punto 2 de conclusiones)"
   ]
  },
  {
   "cell_type": "code",
   "execution_count": 2,
   "metadata": {},
   "outputs": [],
   "source": [
    "import pandas as pd\n",
    "\n",
    "# Cargamos el conjunto de datos\n",
    "file = 'weatherAUS_output.csv'\n",
    "df = pd.read_csv(file)"
   ]
  },
  {
   "cell_type": "markdown",
   "metadata": {},
   "source": [
    "2. Realice una codificación adecuada de variables categóricas si es necesario, utilizando técnicas como One-Hot \n",
    "Encoding según corresponda. "
   ]
  },
  {
   "cell_type": "code",
   "execution_count": 3,
   "metadata": {},
   "outputs": [
    {
     "name": "stdout",
     "output_type": "stream",
     "text": [
      "   MinTemp  MaxTemp  Rainfall  Evaporation  Sunshine  WindGustSpeed  \\\n",
      "0     12.7     15.8       0.8          1.4       7.8           35.0   \n",
      "1      6.2     15.1       0.0          1.8       2.1           20.0   \n",
      "2      5.3     15.9       0.0          1.4       8.0           30.0   \n",
      "3     11.3     15.7       0.0          1.4       1.5           52.0   \n",
      "4      7.6     11.2      16.2          4.6       1.1           46.0   \n",
      "\n",
      "   WindSpeed9am  WindSpeed3pm  Humidity9am  Humidity3pm  ...  WindDir3pm_NNW  \\\n",
      "0          13.0          15.0         75.0         52.0  ...           False   \n",
      "1           2.0          11.0         81.0         56.0  ...           False   \n",
      "2           6.0          13.0         71.0         46.0  ...           False   \n",
      "3          15.0          22.0         62.0         62.0  ...            True   \n",
      "4          17.0          13.0         83.0         88.0  ...           False   \n",
      "\n",
      "   WindDir3pm_NW  WindDir3pm_S  WindDir3pm_SE  WindDir3pm_SSE  WindDir3pm_SSW  \\\n",
      "0          False         False          False           False           False   \n",
      "1          False         False          False           False           False   \n",
      "2          False         False          False           False           False   \n",
      "3          False         False          False           False           False   \n",
      "4          False         False          False           False           False   \n",
      "\n",
      "   WindDir3pm_SW  WindDir3pm_W  WindDir3pm_WNW  WindDir3pm_WSW  \n",
      "0           True         False           False           False  \n",
      "1           True         False           False           False  \n",
      "2          False         False           False           False  \n",
      "3          False         False           False           False  \n",
      "4           True         False           False           False  \n",
      "\n",
      "[5 rows x 3547 columns]\n"
     ]
    }
   ],
   "source": [
    "# Identificamos las columnas categóricas\n",
    "categorical_columns = df.select_dtypes(include=['object']).columns\n",
    "\n",
    "# Aplicamos One-Hot Encoding a las columnas categóricas\n",
    "df_encoded = pd.get_dummies(df, columns=categorical_columns, drop_first=True)\n",
    "\n",
    "# Mostramos las primeras filas del dataset transformado\n",
    "print(df_encoded.head())"
   ]
  },
  {
   "cell_type": "markdown",
   "metadata": {},
   "source": [
    "3. Separe el dataset en entrenamiento y prueba (70% entrenamiento, 30% prueba)."
   ]
  },
  {
   "cell_type": "code",
   "execution_count": 6,
   "metadata": {},
   "outputs": [
    {
     "name": "stdout",
     "output_type": "stream",
     "text": [
      "Valores de X_train: 352834092\n",
      "Valores de y_train: 99502\n",
      "Valores de X_test: 42644\n",
      "Valores de y_test: 42644\n"
     ]
    }
   ],
   "source": [
    "from sklearn.model_selection import train_test_split\n",
    "\n",
    "# Definimos las características (X) y el objetivo (y)\n",
    "X = df_encoded.drop('RainTomorrow', axis=1)\n",
    "y = df_encoded['RainTomorrow']\n",
    "\n",
    "# Separamos el dataset en entrenamiento (70%) y prueba (30%)\n",
    "X_train, X_test, y_train, y_test = train_test_split(X, y, test_size=0.3, random_state=42)\n",
    "\n",
    "# Datos de train y de test\n",
    "print(\"Valores de X_train:\",X_train.size)\n",
    "print(\"Valores de y_train:\",y_train.size)\n",
    "print(\"Valores de X_test:\",len(X_test))\n",
    "print(\"Valores de y_test:\",len(y_test))\n"
   ]
  },
  {
   "cell_type": "markdown",
   "metadata": {},
   "source": [
    "4. Normalice o estandarice los atributos numéricos para asegurar que todas las variables tengan la misma escala."
   ]
  },
  {
   "cell_type": "code",
   "execution_count": null,
   "metadata": {},
   "outputs": [],
   "source": []
  },
  {
   "cell_type": "markdown",
   "metadata": {},
   "source": [
    "### Modelado y Evaluación:"
   ]
  },
  {
   "cell_type": "markdown",
   "metadata": {},
   "source": [
    "1. Determine dos métricas de evaluación que considere importante medir para este problema. Justifique su elección."
   ]
  },
  {
   "cell_type": "code",
   "execution_count": null,
   "metadata": {},
   "outputs": [],
   "source": []
  },
  {
   "cell_type": "markdown",
   "metadata": {},
   "source": [
    "2. Implemente un modelo de base usando como predicción que determine que llueve mañana si hoy llueve, y si hoy no llueve\n",
    "mañana no va a llover. "
   ]
  },
  {
   "cell_type": "code",
   "execution_count": null,
   "metadata": {},
   "outputs": [],
   "source": []
  },
  {
   "cell_type": "markdown",
   "metadata": {},
   "source": [
    "3. Implemente y entrene un modelo de k Nearest Neighbors (kNN) para predecir si va a llover mañana. Utilice la \n",
    "distancia euclidiana como medida de distancia entre vecinos.Ajuste el parámetro k utilizando técnicas como la \n",
    "validación cruzada (5 folds) para optimizar el rendimiento del modelo (utilice como función de optimización una de las \n",
    "métricas definidas en el punto anterior). "
   ]
  },
  {
   "cell_type": "code",
   "execution_count": null,
   "metadata": {},
   "outputs": [],
   "source": []
  },
  {
   "cell_type": "markdown",
   "metadata": {},
   "source": [
    "4. Implemente y entrene un modelo de regresión logística para predecir la misma variable objetivo."
   ]
  },
  {
   "cell_type": "code",
   "execution_count": null,
   "metadata": {},
   "outputs": [],
   "source": []
  },
  {
   "cell_type": "markdown",
   "metadata": {},
   "source": [
    "5. Evalúe los dos modelos con las métricas definidas al principio. Discuta las fortalezas y debilidades de cada enfoque \n",
    "en el contexto específico de este problema comparándolos con el modelo de base."
   ]
  },
  {
   "cell_type": "code",
   "execution_count": null,
   "metadata": {},
   "outputs": [],
   "source": []
  },
  {
   "cell_type": "markdown",
   "metadata": {},
   "source": [
    "### Conclusiones:"
   ]
  },
  {
   "cell_type": "markdown",
   "metadata": {},
   "source": [
    "1. Resuma los hallazgos más relevantes obtenidos."
   ]
  },
  {
   "cell_type": "code",
   "execution_count": null,
   "metadata": {},
   "outputs": [],
   "source": []
  },
  {
   "cell_type": "markdown",
   "metadata": {},
   "source": [
    "2. Guarde los conjuntos de entrenamiento y evaluación para el siguiente TP en archivos `csv`."
   ]
  },
  {
   "cell_type": "code",
   "execution_count": null,
   "metadata": {},
   "outputs": [],
   "source": []
  },
  {
   "cell_type": "markdown",
   "metadata": {},
   "source": [
    "3. Guarde en formato pickle el mejor modelo, seleccionado según su criterio."
   ]
  },
  {
   "cell_type": "code",
   "execution_count": null,
   "metadata": {},
   "outputs": [],
   "source": []
  }
 ],
 "metadata": {
  "kernelspec": {
   "display_name": "Python 3",
   "language": "python",
   "name": "python3"
  },
  "language_info": {
   "codemirror_mode": {
    "name": "ipython",
    "version": 3
   },
   "file_extension": ".py",
   "mimetype": "text/x-python",
   "name": "python",
   "nbconvert_exporter": "python",
   "pygments_lexer": "ipython3",
   "version": "3.10.12"
  }
 },
 "nbformat": 4,
 "nbformat_minor": 2
}
